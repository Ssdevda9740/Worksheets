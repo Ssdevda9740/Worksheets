{
 "cells": [
  {
   "cell_type": "code",
   "execution_count": 6,
   "metadata": {},
   "outputs": [
    {
     "name": "stdout",
     "output_type": "stream",
     "text": [
      "a:346\n",
      "b:346547468\n",
      "c:357\n",
      "There are 2 roots: (-1.0301612016093524e-06, -1001582.2774556172)\n"
     ]
    }
   ],
   "source": [
    "from math import sqrt\n",
    "\n",
    "a=float(input('a:'))\n",
    "b=float(input('b:'))\n",
    "c=float(input('c:'))\n",
    "\n",
    "r=(b**2)-(4*a*c)\n",
    "\n",
    "if r>0:\n",
    "    x1=(((-b)+ sqrt(r))/(2*a))\n",
    "    x2=(((-b)- sqrt(r))/(2*a))\n",
    "    \n",
    "    print('There are 2 roots:',(x1,x2))\n",
    "    \n",
    "elif r==0:\n",
    "    x=(-b)/(2*a)\n",
    "    print('There is one root:',x)\n",
    "    \n",
    "else:\n",
    "    print('The solution is complex')"
   ]
  },
  {
   "cell_type": "code",
   "execution_count": null,
   "metadata": {},
   "outputs": [],
   "source": []
  },
  {
   "cell_type": "code",
   "execution_count": 8,
   "metadata": {},
   "outputs": [
    {
     "name": "stdout",
     "output_type": "stream",
     "text": [
      "a:1234\n",
      "b:1\n",
      "c:124\n",
      "The solution are (-0.0004051863857374392-0.31699536193275407j) and (-0.0004051863857374392+0.31699536193275407j)\n"
     ]
    }
   ],
   "source": [
    "from math import sqrt\n",
    "import cmath\n",
    "\n",
    "a=float(input('a:'))\n",
    "b=float(input('b:'))\n",
    "c=float(input('c:'))\n",
    "\n",
    "d = (b**2) - (4*a*c)\n",
    "\n",
    "# find two solutions\n",
    "sol1 = (-b-cmath.sqrt(d))/(2*a)\n",
    "sol2 = (-b+cmath.sqrt(d))/(2*a)\n",
    "\n",
    "print('The solution are {0} and {1}'.format(sol1,sol2))"
   ]
  },
  {
   "cell_type": "code",
   "execution_count": null,
   "metadata": {},
   "outputs": [],
   "source": []
  },
  {
   "cell_type": "code",
   "execution_count": null,
   "metadata": {},
   "outputs": [],
   "source": []
  },
  {
   "cell_type": "code",
   "execution_count": null,
   "metadata": {},
   "outputs": [],
   "source": []
  },
  {
   "cell_type": "code",
   "execution_count": null,
   "metadata": {},
   "outputs": [],
   "source": []
  },
  {
   "cell_type": "code",
   "execution_count": null,
   "metadata": {},
   "outputs": [],
   "source": []
  },
  {
   "cell_type": "code",
   "execution_count": null,
   "metadata": {},
   "outputs": [],
   "source": []
  }
 ],
 "metadata": {
  "kernelspec": {
   "display_name": "Python 3",
   "language": "python",
   "name": "python3"
  },
  "language_info": {
   "codemirror_mode": {
    "name": "ipython",
    "version": 3
   },
   "file_extension": ".py",
   "mimetype": "text/x-python",
   "name": "python",
   "nbconvert_exporter": "python",
   "pygments_lexer": "ipython3",
   "version": "3.8.3"
  }
 },
 "nbformat": 4,
 "nbformat_minor": 4
}
