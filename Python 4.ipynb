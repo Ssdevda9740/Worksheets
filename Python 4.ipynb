{
 "cells": [
  {
   "cell_type": "code",
   "execution_count": null,
   "metadata": {},
   "outputs": [],
   "source": []
  },
  {
   "cell_type": "markdown",
   "metadata": {},
   "source": [
    "14. Write a python program to represent a user entered number in expanded form"
   ]
  },
  {
   "cell_type": "code",
   "execution_count": 3,
   "metadata": {},
   "outputs": [
    {
     "name": "stdout",
     "output_type": "stream",
     "text": [
      "5000+600+80+9\n"
     ]
    }
   ],
   "source": [
    "a = 5689\n",
    "\n",
    "def expanded_form(num):\n",
    "    result = []\n",
    "    divider = 10\n",
    "    while divider < num:\n",
    "        temp = num%divider\n",
    "        if temp != 0:\n",
    "            result.insert(0, str(temp))\n",
    "        num -= temp\n",
    "        divider *= 10\n",
    "    result.insert(0, str(num))\n",
    "    return '+'.join(result)\n",
    "\n",
    "print(expanded_form(a))"
   ]
  },
  {
   "cell_type": "markdown",
   "metadata": {},
   "source": [
    "15. Write a python program to determine whether the number entered by the user is an Armstrong number or not?"
   ]
  },
  {
   "cell_type": "code",
   "execution_count": 4,
   "metadata": {},
   "outputs": [
    {
     "name": "stdout",
     "output_type": "stream",
     "text": [
      "Please enter the number: 354\n",
      "The number 354 is not Armstrong Number\n"
     ]
    }
   ],
   "source": [
    "\n",
    "num= int(input(\"Please enter the number: \"))\n",
    "sum=0\n",
    "x=num\n",
    "while num>0:\n",
    "    d=num%10\n",
    "    num=num//10\n",
    "    sum=sum+(d*d*d)\n",
    "if(x==sum):\n",
    "    print(\"The number\",x,\"is Armstrong Number\")\n",
    "else:\n",
    "    print(\"The number\",x,\"is not Armstrong Number\")"
   ]
  },
  {
   "cell_type": "code",
   "execution_count": null,
   "metadata": {},
   "outputs": [],
   "source": []
  },
  {
   "cell_type": "code",
   "execution_count": null,
   "metadata": {},
   "outputs": [],
   "source": []
  },
  {
   "cell_type": "code",
   "execution_count": null,
   "metadata": {},
   "outputs": [],
   "source": []
  },
  {
   "cell_type": "code",
   "execution_count": null,
   "metadata": {},
   "outputs": [],
   "source": []
  }
 ],
 "metadata": {
  "kernelspec": {
   "display_name": "Python 3",
   "language": "python",
   "name": "python3"
  },
  "language_info": {
   "codemirror_mode": {
    "name": "ipython",
    "version": 3
   },
   "file_extension": ".py",
   "mimetype": "text/x-python",
   "name": "python",
   "nbconvert_exporter": "python",
   "pygments_lexer": "ipython3",
   "version": "3.8.3"
  }
 },
 "nbformat": 4,
 "nbformat_minor": 4
}
