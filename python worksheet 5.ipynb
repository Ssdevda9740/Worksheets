{
 "cells": [
  {
   "cell_type": "code",
   "execution_count": 1,
   "metadata": {},
   "outputs": [
    {
     "name": "stdout",
     "output_type": "stream",
     "text": [
      "List A =  [0, 1, 4, 9, 16, 25, 36, 49, 64, 81, 100]\n"
     ]
    }
   ],
   "source": [
    "print(\"List A = \",end=\" \")\n",
    "A = [x**2 for x in range (11)]\n",
    "print(A)"
   ]
  },
  {
   "cell_type": "code",
   "execution_count": 2,
   "metadata": {},
   "outputs": [],
   "source": [
    "def Remove(duplicate): \n",
    "    final_list = [] \n",
    "    for num in duplicate: \n",
    "        if num not in final_list: \n",
    "            final_list.append(num) \n",
    "    return final_list "
   ]
  },
  {
   "cell_type": "code",
   "execution_count": 3,
   "metadata": {},
   "outputs": [
    {
     "name": "stdout",
     "output_type": "stream",
     "text": [
      "[2, 4, 10, 20, 5]\n"
     ]
    }
   ],
   "source": [
    "duplicate = [2, 4, 10, 20, 5, 2, 20, 4] \n",
    "print(Remove(duplicate))"
   ]
  },
  {
   "cell_type": "code",
   "execution_count": 5,
   "metadata": {},
   "outputs": [
    {
     "name": "stdout",
     "output_type": "stream",
     "text": [
      "Intersection of two sets are: {3, 4}\n",
      "\n",
      "Union of two sets are: {1, 2, 3, 4, 5, 6}\n",
      "\n",
      "Difference of two sets are: {1, 2}\n",
      "\n",
      "Symmetric difference of two sets are: {1, 2, 5, 6}\n"
     ]
    }
   ],
   "source": [
    "S1={1,2,3,4}\n",
    "S2={3,4,5,6}\n",
    "\n",
    "#Intersection() Method\n",
    "print(\"Intersection of two sets are:\", S1&S2)\n",
    "\n",
    "#Union() Method\n",
    "print(\"\\nUnion of two sets are:\", S1|S2)\n",
    "\n",
    "#Difference() Method\n",
    "print(\"\\nDifference of two sets are:\", S1-S2)\n",
    "\n",
    "#symmetric_difference() Method\n",
    "print(\"\\nSymmetric difference of two sets are:\", S1^S2)"
   ]
  },
  {
   "cell_type": "code",
   "execution_count": 6,
   "metadata": {},
   "outputs": [
    {
     "name": "stdout",
     "output_type": "stream",
     "text": [
      "{'Red'}\n",
      "{'Blue', 'Red', 'Green'}\n"
     ]
    }
   ],
   "source": [
    "color_set = set()\n",
    "color_set.add(\"Red\")\n",
    "print(color_set)\n",
    "#Add multiple items\n",
    "color_set.update([\"Blue\", \"Green\"])\n",
    "print(color_set)"
   ]
  },
  {
   "cell_type": "code",
   "execution_count": null,
   "metadata": {},
   "outputs": [],
   "source": []
  },
  {
   "cell_type": "code",
   "execution_count": null,
   "metadata": {},
   "outputs": [],
   "source": []
  }
 ],
 "metadata": {
  "kernelspec": {
   "display_name": "Python 3",
   "language": "python",
   "name": "python3"
  },
  "language_info": {
   "codemirror_mode": {
    "name": "ipython",
    "version": 3
   },
   "file_extension": ".py",
   "mimetype": "text/x-python",
   "name": "python",
   "nbconvert_exporter": "python",
   "pygments_lexer": "ipython3",
   "version": "3.8.3"
  }
 },
 "nbformat": 4,
 "nbformat_minor": 4
}
